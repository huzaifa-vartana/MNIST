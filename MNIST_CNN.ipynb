{
 "cells": [
  {
   "cell_type": "code",
   "execution_count": 1,
   "metadata": {},
   "outputs": [],
   "source": [
    "import tensorflow as tf\n",
    "import numpy as np\n",
    "import matplotlib\n",
    "import matplotlib.pyplot as plt\n",
    "%matplotlib inline\n"
   ]
  },
  {
   "cell_type": "code",
   "execution_count": 2,
   "metadata": {},
   "outputs": [
    {
     "name": "stdout",
     "output_type": "stream",
     "text": [
      "Downloading data from https://storage.googleapis.com/tensorflow/tf-keras-datasets/mnist.npz\n",
      "11493376/11490434 [==============================] - 16s 1us/step\n"
     ]
    }
   ],
   "source": [
    "(x_train,y_train),(x_test,y_test)=tf.keras.datasets.mnist.load_data()"
   ]
  },
  {
   "cell_type": "code",
   "execution_count": 3,
   "metadata": {},
   "outputs": [
    {
     "data": {
      "text/plain": [
       "(10000, 28, 28)"
      ]
     },
     "execution_count": 3,
     "metadata": {},
     "output_type": "execute_result"
    }
   ],
   "source": [
    "x_test.shape"
   ]
  },
  {
   "cell_type": "code",
   "execution_count": 4,
   "metadata": {},
   "outputs": [
    {
     "data": {
      "image/png": "[encoded data removed]",
      "text/plain": [
       "<Figure size 432x288 with 9 Axes>"
      ]
     },
     "metadata": {
      "needs_background": "light"
     },
     "output_type": "display_data"
    }
   ],
   "source": [
    "for i in range(9):\n",
    "    plt.subplot(3,3,i+1)\n",
    "    plt.imshow(x_train[i])\n",
    "    plt.axis('off')"
   ]
  },
  {
   "cell_type": "code",
   "execution_count": 5,
   "metadata": {},
   "outputs": [],
   "source": [
    "x_train.shape\n",
    "x_train=x_train[...,np.newaxis]\n",
    "x_test=x_test[...,np.newaxis]"
   ]
  },
  {
   "cell_type": "code",
   "execution_count": 6,
   "metadata": {},
   "outputs": [
    {
     "data": {
      "text/plain": [
       "(60000, 28, 28, 1)"
      ]
     },
     "execution_count": 6,
     "metadata": {},
     "output_type": "execute_result"
    }
   ],
   "source": [
    "x_train.shape"
   ]
  },
  {
   "cell_type": "code",
   "execution_count": 7,
   "metadata": {},
   "outputs": [
    {
     "data": {
      "text/plain": [
       "((60000, 28, 28, 1), (10000, 28, 28, 1))"
      ]
     },
     "execution_count": 7,
     "metadata": {},
     "output_type": "execute_result"
    }
   ],
   "source": [
    "x_train_norm=x_train.astype('int8')\n",
    "x_test_norm=x_test.astype('int8')\n",
    "x_train_norm=x_train_norm/255.0\n",
    "x_test_norm=x_test_norm/255.0\n",
    "x_train_norm.shape,x_test_norm.shape"
   ]
  },
  {
   "cell_type": "code",
   "execution_count": 8,
   "metadata": {},
   "outputs": [],
   "source": [
    "y_train=y_train.astype('int8')\n",
    "y_test=y_test.astype('int8')"
   ]
  },
  {
   "cell_type": "code",
   "execution_count": 9,
   "metadata": {},
   "outputs": [
    {
     "data": {
      "text/plain": [
       "(28, 28, 1)"
      ]
     },
     "execution_count": 9,
     "metadata": {},
     "output_type": "execute_result"
    }
   ],
   "source": [
    "input_shape=x_train.shape[1],x_train.shape[2],1\n",
    "input_shape"
   ]
  },
  {
   "cell_type": "code",
   "execution_count": 10,
   "metadata": {},
   "outputs": [],
   "source": [
    "\n",
    "model=tf.keras.Sequential()\n",
    "model.add(tf.keras.layers.Conv2D(32,(3,3),2,activation='relu',input_shape=input_shape))\n",
    "model.add(tf.keras.layers.MaxPooling2D((3,3),2,padding='same'))\n",
    "model.add(tf.keras.layers.BatchNormalization())\n",
    "\n",
    "model.add(tf.keras.layers.Conv2D(32,(3,3),2,activation='relu'))\n",
    "model.add(tf.keras.layers.MaxPooling2D((3,3),2,padding='same'))\n",
    "model.add(tf.keras.layers.BatchNormalization())\n",
    "\n",
    "model.add(tf.keras.layers.Flatten())\n",
    "model.add(tf.keras.layers.Dense(32,activation='relu'))\n",
    "\n",
    "\n",
    "model.add(tf.keras.layers.Dense(10,activation='softmax'))\n",
    "\n",
    "\n"
   ]
  },
  {
   "cell_type": "code",
   "execution_count": 11,
   "metadata": {},
   "outputs": [
    {
     "name": "stdout",
     "output_type": "stream",
     "text": [
      "Model: \"sequential\"\n",
      "_________________________________________________________________\n",
      "Layer (type)                 Output Shape              Param #   \n",
      "=================================================================\n",
      "conv2d (Conv2D)              (None, 13, 13, 32)        320       \n",
      "_________________________________________________________________\n",
      "max_pooling2d (MaxPooling2D) (None, 7, 7, 32)          0         \n",
      "_________________________________________________________________\n",
      "batch_normalization (BatchNo (None, 7, 7, 32)          128       \n",
      "_________________________________________________________________\n",
      "conv2d_1 (Conv2D)            (None, 3, 3, 32)          9248      \n",
      "_________________________________________________________________\n",
      "max_pooling2d_1 (MaxPooling2 (None, 2, 2, 32)          0         \n",
      "_________________________________________________________________\n",
      "batch_normalization_1 (Batch (None, 2, 2, 32)          128       \n",
      "_________________________________________________________________\n",
      "flatten (Flatten)            (None, 128)               0         \n",
      "_________________________________________________________________\n",
      "dense (Dense)                (None, 32)                4128      \n",
      "_________________________________________________________________\n",
      "dense_1 (Dense)              (None, 10)                330       \n",
      "=================================================================\n",
      "Total params: 14,282\n",
      "Trainable params: 14,154\n",
      "Non-trainable params: 128\n",
      "_________________________________________________________________\n"
     ]
    }
   ],
   "source": [
    "model.summary()"
   ]
  },
  {
   "cell_type": "code",
   "execution_count": 12,
   "metadata": {},
   "outputs": [],
   "source": [
    "optimiser=tf.keras.optimizers.Adam(learning_rate=0.001)\n",
    "\n",
    "model.compile(optimizer=optimiser,loss='sparse_categorical_crossentropy',metrics=['accuracy'])"
   ]
  },
  {
   "cell_type": "code",
   "execution_count": 13,
   "metadata": {},
   "outputs": [
    {
     "name": "stdout",
     "output_type": "stream",
     "text": [
      "Epoch 1/30\n",
      "1875/1875 [==============================] - 10s 6ms/step - loss: 0.1979 - accuracy: 0.9400\n",
      "Epoch 2/30\n",
      "1875/1875 [==============================] - 10s 5ms/step - loss: 0.0702 - accuracy: 0.9783\n",
      "Epoch 3/30\n",
      "1875/1875 [==============================] - 12s 7ms/step - loss: 0.0547 - accuracy: 0.9830\n",
      "Epoch 4/30\n",
      "1875/1875 [==============================] - 13s 7ms/step - loss: 0.0438 - accuracy: 0.9860\n",
      "Epoch 5/30\n",
      "1875/1875 [==============================] - 13s 7ms/step - loss: 0.0369 - accuracy: 0.9877\n",
      "Epoch 6/30\n",
      "1875/1875 [==============================] - 13s 7ms/step - loss: 0.0323 - accuracy: 0.9896\n",
      "Epoch 7/30\n",
      "1875/1875 [==============================] - 12s 7ms/step - loss: 0.0304 - accuracy: 0.9896\n",
      "Epoch 8/30\n",
      "1875/1875 [==============================] - 13s 7ms/step - loss: 0.0274 - accuracy: 0.9906\n",
      "Epoch 9/30\n",
      "1875/1875 [==============================] - 13s 7ms/step - loss: 0.0241 - accuracy: 0.9918\n",
      "Epoch 10/30\n",
      "1875/1875 [==============================] - 13s 7ms/step - loss: 0.0205 - accuracy: 0.9936\n",
      "Epoch 11/30\n",
      "1875/1875 [==============================] - 13s 7ms/step - loss: 0.0202 - accuracy: 0.9932\n",
      "Epoch 12/30\n",
      "1875/1875 [==============================] - 13s 7ms/step - loss: 0.0185 - accuracy: 0.9934\n",
      "Epoch 13/30\n",
      "1875/1875 [==============================] - 13s 7ms/step - loss: 0.0173 - accuracy: 0.9941\n",
      "Epoch 14/30\n",
      "1875/1875 [==============================] - 13s 7ms/step - loss: 0.0150 - accuracy: 0.9947\n",
      "Epoch 15/30\n",
      "1875/1875 [==============================] - 13s 7ms/step - loss: 0.0161 - accuracy: 0.9944\n",
      "Epoch 16/30\n",
      "1875/1875 [==============================] - 13s 7ms/step - loss: 0.0132 - accuracy: 0.9954\n",
      "Epoch 17/30\n",
      "1875/1875 [==============================] - 15s 8ms/step - loss: 0.0131 - accuracy: 0.9957\n",
      "Epoch 18/30\n",
      "1875/1875 [==============================] - 14s 8ms/step - loss: 0.0124 - accuracy: 0.9956\n",
      "Epoch 19/30\n",
      "1875/1875 [==============================] - 14s 7ms/step - loss: 0.0110 - accuracy: 0.9964\n",
      "Epoch 20/30\n",
      "1875/1875 [==============================] - 15s 8ms/step - loss: 0.0114 - accuracy: 0.9961\n",
      "Epoch 21/30\n",
      "1875/1875 [==============================] - 15s 8ms/step - loss: 0.0119 - accuracy: 0.9958\n",
      "Epoch 22/30\n",
      "1875/1875 [==============================] - 15s 8ms/step - loss: 0.0098 - accuracy: 0.9965\n",
      "Epoch 23/30\n",
      "1875/1875 [==============================] - 13s 7ms/step - loss: 0.0098 - accuracy: 0.9966\n",
      "Epoch 24/30\n",
      "1875/1875 [==============================] - 13s 7ms/step - loss: 0.0089 - accuracy: 0.9969\n",
      "Epoch 25/30\n",
      "1875/1875 [==============================] - 13s 7ms/step - loss: 0.0090 - accuracy: 0.9971\n",
      "Epoch 26/30\n",
      "1875/1875 [==============================] - 13s 7ms/step - loss: 0.0082 - accuracy: 0.9969\n",
      "Epoch 27/30\n",
      "1875/1875 [==============================] - 13s 7ms/step - loss: 0.0089 - accuracy: 0.9969\n",
      "Epoch 28/30\n",
      "1875/1875 [==============================] - 13s 7ms/step - loss: 0.0073 - accuracy: 0.9972\n",
      "Epoch 29/30\n",
      "1875/1875 [==============================] - 13s 7ms/step - loss: 0.0072 - accuracy: 0.9974\n",
      "Epoch 30/30\n",
      "1875/1875 [==============================] - 13s 7ms/step - loss: 0.0086 - accuracy: 0.9969\n"
     ]
    }
   ],
   "source": [
    "history = model.fit(x_train, y_train,batch_size=32, epochs=30)\n"
   ]
  },
  {
   "cell_type": "code",
   "execution_count": 14,
   "metadata": {},
   "outputs": [
    {
     "name": "stdout",
     "output_type": "stream",
     "text": [
      "313/313 - 1s - loss: 0.0896 - accuracy: 0.9815\n",
      "\n",
      "Test accuracy: 0.9815000295639038\n"
     ]
    }
   ],
   "source": [
    "   # evaluate model on test set\n",
    "    test_loss, test_acc = model.evaluate(x_test, y_test, verbose=2)\n",
    "    print('\\nTest accuracy:', test_acc)"
   ]
  },
  {
   "cell_type": "code",
   "execution_count": 15,
   "metadata": {},
   "outputs": [],
   "source": [
    "def predict(x):\n",
    "    x_train[x].shape\n",
    "    some_data=x_train[x]\n",
    "    some_data=some_data[np.newaxis,...]\n",
    "    prediction=model.predict(some_data)\n",
    "    predictr=np.argmax(prediction,axis=1)\n",
    "    return predictr,y_train[x]    "
   ]
  },
  {
   "cell_type": "code",
   "execution_count": 16,
   "metadata": {},
   "outputs": [
    {
     "data": {
      "text/plain": [
       "(array([8], dtype=int64), 8)"
      ]
     },
     "execution_count": 16,
     "metadata": {},
     "output_type": "execute_result"
    }
   ],
   "source": [
    "predict(144)"
   ]
  },
  {
   "cell_type": "code",
   "execution_count": null,
   "metadata": {},
   "outputs": [],
   "source": []
  },
  {
   "cell_type": "code",
   "execution_count": null,
   "metadata": {},
   "outputs": [],
   "source": []
  }
 ],
 "metadata": {
  "kernelspec": {
   "display_name": "Python 3",
   "language": "python",
   "name": "python3"
  },
  "language_info": {
   "codemirror_mode": {
    "name": "ipython",
    "version": 3
   },
   "file_extension": ".py",
   "mimetype": "text/x-python",
   "name": "python",
   "nbconvert_exporter": "python",
   "pygments_lexer": "ipython3",
   "version": "3.6.10"
  }
 },
 "nbformat": 4,
 "nbformat_minor": 4
}
